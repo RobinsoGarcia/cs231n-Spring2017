{
 "cells": [
  {
   "cell_type": "markdown",
   "metadata": {},
   "source": [
    "# Training a ConvNet PyTorch\n",
    "\n",
    "In this notebook, you'll learn how to use the powerful PyTorch framework to specify a conv net architecture and train it on the CIFAR-10 dataset."
   ]
  },
  {
   "cell_type": "code",
   "execution_count": 1,
   "metadata": {
    "collapsed": false
   },
   "outputs": [],
   "source": [
    "import torch\n",
    "import torch.nn as nn\n",
    "import torch.optim as optim\n",
    "from torch.autograd import Variable\n",
    "from torch.utils.data import DataLoader\n",
    "from torch.utils.data import sampler\n",
    "\n",
    "import torchvision.datasets as dset\n",
    "import torchvision.transforms as T\n",
    "\n",
    "import numpy as np\n",
    "\n",
    "import timeit\n"
   ]
  },
  {
   "cell_type": "markdown",
   "metadata": {},
   "source": [
    "## What's this PyTorch business?\n",
    "\n",
    "You've written a lot of code in this assignment to provide a whole host of neural network functionality. Dropout, Batch Norm, and 2D convolutions are some of the workhorses of deep learning in computer vision. You've also worked hard to make your code efficient and vectorized.\n",
    "\n",
    "For the last part of this assignment, though, we're going to leave behind your beautiful codebase and instead migrate to one of two popular deep learning frameworks: in this instance, PyTorch (or TensorFlow, if you switch over to that notebook). \n",
    "\n",
    "Why?\n",
    "\n",
    "* Our code will now run on GPUs! Much faster training. When using a framework like PyTorch or TensorFlow you can harness the power of the GPU for your own custom neural network architectures without having to write CUDA code directly (which is beyond the scope of this class).\n",
    "* We want you to be ready to use one of these frameworks for your project so you can experiment more efficiently than if you were writing every feature you want to use by hand. \n",
    "* We want you to stand on the shoulders of giants! TensorFlow and PyTorch are both excellent frameworks that will make your lives a lot easier, and now that you understand their guts, you are free to use them :) \n",
    "* We want you to be exposed to the sort of deep learning code you might run into in academia or industry. "
   ]
  },
  {
   "cell_type": "markdown",
   "metadata": {},
   "source": [
    "## How will I learn PyTorch?\n",
    "\n",
    "If you've used Torch before, but are new to PyTorch, this tutorial might be of use: http://pytorch.org/tutorials/beginner/former_torchies_tutorial.html\n",
    "\n",
    "Otherwise, this notebook will walk you through much of what you need to do to train models in Torch. See the end of the notebook for some links to helpful tutorials if you want to learn more or need further clarification on topics that aren't fully explained here."
   ]
  },
  {
   "cell_type": "markdown",
   "metadata": {},
   "source": [
    "## Load Datasets\n",
    "\n",
    "We load the CIFAR-10 dataset. This might take a couple minutes the first time you do it, but the files should stay cached after that."
   ]
  },
  {
   "cell_type": "code",
   "execution_count": 2,
   "metadata": {
    "collapsed": false
   },
   "outputs": [
    {
     "name": "stdout",
     "output_type": "stream",
     "text": [
      "Files already downloaded and verified\n",
      "Files already downloaded and verified\n",
      "Files already downloaded and verified\n"
     ]
    }
   ],
   "source": [
    "class ChunkSampler(sampler.Sampler):\n",
    "    \"\"\"Samples elements sequentially from some offset. \n",
    "    Arguments:\n",
    "        num_samples: # of desired datapoints\n",
    "        start: offset where we should start selecting from\n",
    "    \"\"\"\n",
    "    def __init__(self, num_samples, start = 0):\n",
    "        self.num_samples = num_samples\n",
    "        self.start = start\n",
    "\n",
    "    def __iter__(self):\n",
    "        return iter(range(self.start, self.start + self.num_samples))\n",
    "\n",
    "    def __len__(self):\n",
    "        return self.num_samples\n",
    "\n",
    "NUM_TRAIN = 49000\n",
    "NUM_VAL = 1000\n",
    "\n",
    "cifar10_train = dset.CIFAR10('./cs231n/datasets', train=True, download=True,\n",
    "                           transform=T.ToTensor())\n",
    "loader_train = DataLoader(cifar10_train, batch_size=64, sampler=ChunkSampler(NUM_TRAIN, 0))\n",
    "\n",
    "cifar10_val = dset.CIFAR10('./cs231n/datasets', train=True, download=True,\n",
    "                           transform=T.ToTensor())\n",
    "loader_val = DataLoader(cifar10_val, batch_size=64, sampler=ChunkSampler(NUM_VAL, NUM_TRAIN))\n",
    "\n",
    "cifar10_test = dset.CIFAR10('./cs231n/datasets', train=False, download=True,\n",
    "                          transform=T.ToTensor())\n",
    "loader_test = DataLoader(cifar10_test, batch_size=64)\n"
   ]
  },
  {
   "cell_type": "markdown",
   "metadata": {},
   "source": [
    "For now, we're going to use a CPU-friendly datatype. Later, we'll switch to a datatype that will move all our computations to the GPU and measure the speedup."
   ]
  },
  {
   "cell_type": "code",
   "execution_count": 19,
   "metadata": {
    "collapsed": true
   },
   "outputs": [],
   "source": [
    "dtype = torch.FloatTensor # the CPU datatype\n",
    "\n",
    "# Constant to control how frequently we print train loss\n",
    "print_every = 500\n",
    "\n",
    "# This is a little utility that we'll use to reset the model\n",
    "# if we want to re-initialize all our parameters\n",
    "def reset(m):\n",
    "    if hasattr(m, 'reset_parameters'):\n",
    "        m.reset_parameters()"
   ]
  },
  {
   "cell_type": "markdown",
   "metadata": {},
   "source": [
    "## Example Model\n",
    "\n",
    "### Some assorted tidbits\n",
    "\n",
    "Let's start by looking at a simple model. First, note that PyTorch operates on Tensors, which are n-dimensional arrays functionally analogous to numpy's ndarrays, with the additional feature that they can be used for computations on GPUs.\n",
    "\n",
    "We'll provide you with a Flatten function, which we explain here. Remember that our image data (and more relevantly, our intermediate feature maps) are initially N x C x H x W, where:\n",
    "* N is the number of datapoints\n",
    "* C is the number of channels\n",
    "* H is the height of the intermediate feature map in pixels\n",
    "* W is the height of the intermediate feature map in pixels\n",
    "\n",
    "This is the right way to represent the data when we are doing something like a 2D convolution, that needs spatial understanding of where the intermediate features are relative to each other. When we input  data into fully connected affine layers, however, we want each datapoint to be represented by a single vector -- it's no longer useful to segregate the different channels, rows, and columns of the data. So, we use a \"Flatten\" operation to collapse the C x H x W values per representation into a single long vector. The Flatten function below first reads in the N, C, H, and W values from a given batch of data, and then returns a \"view\" of that data. \"View\" is analogous to numpy's \"reshape\" method: it reshapes x's dimensions to be N x ??, where ?? is allowed to be anything (in this case, it will be C x H x W, but we don't need to specify that explicitly). "
   ]
  },
  {
   "cell_type": "code",
   "execution_count": 4,
   "metadata": {
    "collapsed": true
   },
   "outputs": [],
   "source": [
    "class Flatten(nn.Module):\n",
    "    def forward(self, x):\n",
    "        N, C, H, W = x.size() # read in N, C, H, W\n",
    "        return x.view(N, -1)  # \"flatten\" the C * H * W values into a single vector per image"
   ]
  },
  {
   "cell_type": "markdown",
   "metadata": {},
   "source": [
    "### The example model itself\n",
    "\n",
    "The first step to training your own model is defining its architecture.\n",
    "\n",
    "Here's an example of a convolutional neural network defined in PyTorch -- try to understand what each line is doing, remembering that each layer is composed upon the previous layer. We haven't trained anything yet - that'll come next - for now, we want you to understand how everything gets set up.  nn.Sequential is a container which applies each layer\n",
    "one after the other.\n",
    "\n",
    "In that example, you see 2D convolutional layers (Conv2d), ReLU activations, and fully-connected layers (Linear). You also see the Cross-Entropy loss function, and the Adam optimizer being used. \n",
    "\n",
    "Make sure you understand why the parameters of the Linear layer are 5408 and 10.\n"
   ]
  },
  {
   "cell_type": "code",
   "execution_count": 5,
   "metadata": {
    "collapsed": false
   },
   "outputs": [],
   "source": [
    "# Here's where we define the architecture of the model... \n",
    "simple_model = nn.Sequential(\n",
    "                nn.Conv2d(3, 32, kernel_size=7, stride=2),\n",
    "                nn.ReLU(inplace=True),\n",
    "                Flatten(), # see above for explanation\n",
    "                nn.Linear(5408, 10), # affine layer\n",
    "              )\n",
    "\n",
    "# Set the type of all data in this model to be FloatTensor \n",
    "simple_model.type(dtype)\n",
    "\n",
    "loss_fn = nn.CrossEntropyLoss().type(dtype)\n",
    "optimizer = optim.Adam(simple_model.parameters(), lr=1e-2) # lr sets the learning rate of the optimizer"
   ]
  },
  {
   "cell_type": "markdown",
   "metadata": {},
   "source": [
    "PyTorch supports many other layer types, loss functions, and optimizers - you will experiment with these next. Here's the official API documentation for these (if any of the parameters used above were unclear, this resource will also be helpful). One note: what we call in the class \"spatial batch norm\" is called \"BatchNorm2D\" in PyTorch.\n",
    "\n",
    "* Layers: http://pytorch.org/docs/nn.html\n",
    "* Activations: http://pytorch.org/docs/nn.html#non-linear-activations\n",
    "* Loss functions: http://pytorch.org/docs/nn.html#loss-functions\n",
    "* Optimizers: http://pytorch.org/docs/optim.html#algorithms"
   ]
  },
  {
   "cell_type": "markdown",
   "metadata": {},
   "source": [
    "## Training a specific model\n",
    "\n",
    "In this section, we're going to specify a model for you to construct. The goal here isn't to get good performance (that'll be next), but instead to get comfortable with understanding the PyTorch documentation and configuring your own model. \n",
    "\n",
    "Using the code provided above as guidance, and using the following PyTorch documentation, specify a model with the following architecture:\n",
    "\n",
    "* 7x7 Convolutional Layer with 32 filters and stride of 1\n",
    "* ReLU Activation Layer\n",
    "* Spatial Batch Normalization Layer\n",
    "* 2x2 Max Pooling layer with a stride of 2\n",
    "* Affine layer with 1024 output units\n",
    "* ReLU Activation Layer\n",
    "* Affine layer from 1024 input units to 10 outputs\n",
    "\n",
    "And finally, set up a **cross-entropy** loss function and the **RMSprop** learning rule."
   ]
  },
  {
   "cell_type": "code",
   "execution_count": 6,
   "metadata": {
    "collapsed": false
   },
   "outputs": [
    {
     "name": "stdout",
     "output_type": "stream",
     "text": [
      "Output1 26\n",
      "Output2 13.0\n",
      "Flatten output 5408\n"
     ]
    }
   ],
   "source": [
    "out1 = (32 - 7) + 1\n",
    "out2 = (out1 - 2)/2 + 1\n",
    "FlattenOutput = int(32*out2**2)\n",
    "print(\"Output1\",out1)\n",
    "print(\"Output2\",out2)\n",
    "print(\"Flatten output\",FlattenOutput)"
   ]
  },
  {
   "cell_type": "code",
   "execution_count": 7,
   "metadata": {
    "collapsed": false
   },
   "outputs": [],
   "source": [
    "fixed_model_base = nn.Sequential(\n",
    "    nn.Conv2d(3,32,kernel_size=7,stride=1),\n",
    "    nn.ReLU(inplace=True),\n",
    "    nn.BatchNorm2d(32,eps=1e-5),\n",
    "    nn.MaxPool2d(kernel_size=2,stride=2),\n",
    "    Flatten(),\n",
    "    nn.Linear(FlattenOutput,1024),\n",
    "    nn.ReLU(inplace=True),\n",
    "    nn.Linear(1024,10)\n",
    "            )\n",
    "\n",
    "fixed_model = fixed_model_base.type(dtype)\n",
    "\n",
    "loss_fn = nn.CrossEntropyLoss().type(dtype)\n",
    "optimizer = torch.optim.RMSprop(fixed_model.parameters(), lr=1e-2, alpha=0.99, eps=1e-08, weight_decay=0, momentum=0, centered=False)"
   ]
  },
  {
   "cell_type": "markdown",
   "metadata": {},
   "source": [
    "To make sure you're doing the right thing, use the following tool to check the dimensionality of your output (it should be 64 x 10, since our batches have size 64 and the output of the final affine layer should be 10, corresponding to our 10 classes):"
   ]
  },
  {
   "cell_type": "code",
   "execution_count": 8,
   "metadata": {
    "collapsed": false
   },
   "outputs": [
    {
     "data": {
      "text/plain": [
       "True"
      ]
     },
     "execution_count": 8,
     "metadata": {},
     "output_type": "execute_result"
    }
   ],
   "source": [
    "## Now we're going to feed a random batch into the model you defined and make sure the output is the right size\n",
    "x = torch.randn(64, 3, 32, 32).type(dtype)\n",
    "x_var = Variable(x.type(dtype)) # Construct a PyTorch Variable out of your input data\n",
    "ans = fixed_model(x_var)        # Feed it through the model! \n",
    "\n",
    "# Check to make sure what comes out of your model\n",
    "# is the right dimensionality... this should be True\n",
    "# if you've done everything correctly\n",
    "np.array_equal(np.array(ans.size()), np.array([64, 10]))       "
   ]
  },
  {
   "cell_type": "markdown",
   "metadata": {},
   "source": [
    "### GPU!\n",
    "\n",
    "Now, we're going to switch the dtype of the model and our data to the GPU-friendly tensors, and see what happens... everything is the same, except we are casting our model and input tensors as this new dtype instead of the old one.\n",
    "\n",
    "If this returns false, or otherwise fails in a not-graceful way (i.e., with some error message), you may not have an NVIDIA GPU available on your machine. If you're running locally, we recommend you switch to Google Cloud and follow the instructions to set up a GPU there. If you're already on Google Cloud, something is wrong -- make sure you followed the instructions on how to request and use a GPU on your instance. If you did, post on Piazza or come to Office Hours so we can help you debug."
   ]
  },
  {
   "cell_type": "code",
   "execution_count": 9,
   "metadata": {
    "collapsed": false
   },
   "outputs": [
    {
     "data": {
      "text/plain": [
       "True"
      ]
     },
     "execution_count": 9,
     "metadata": {},
     "output_type": "execute_result"
    }
   ],
   "source": [
    "# Verify that CUDA is properly configured and you have a GPU available\n",
    "torch.cuda.is_available()"
   ]
  },
  {
   "cell_type": "code",
   "execution_count": 10,
   "metadata": {
    "collapsed": false
   },
   "outputs": [
    {
     "data": {
      "text/plain": [
       "True"
      ]
     },
     "execution_count": 10,
     "metadata": {},
     "output_type": "execute_result"
    }
   ],
   "source": [
    "import copy\n",
    "gpu_dtype = torch.cuda.FloatTensor\n",
    "\n",
    "fixed_model_gpu = copy.deepcopy(fixed_model_base).type(gpu_dtype)\n",
    "\n",
    "x_gpu = torch.randn(64, 3, 32, 32).type(gpu_dtype)\n",
    "x_var_gpu = Variable(x.type(gpu_dtype)) # Construct a PyTorch Variable out of your input data\n",
    "ans = fixed_model_gpu(x_var_gpu)        # Feed it through the model! \n",
    "\n",
    "# Check to make sure what comes out of your model\n",
    "# is the right dimensionality... this should be True\n",
    "# if you've done everything correctly\n",
    "np.array_equal(np.array(ans.size()), np.array([64, 10]))"
   ]
  },
  {
   "cell_type": "markdown",
   "metadata": {},
   "source": [
    "Run the following cell to evaluate the performance of the forward pass running on the CPU:"
   ]
  },
  {
   "cell_type": "code",
   "execution_count": 11,
   "metadata": {
    "collapsed": false
   },
   "outputs": [
    {
     "name": "stdout",
     "output_type": "stream",
     "text": [
      "100 loops, best of 3: 18.8 ms per loop\n"
     ]
    }
   ],
   "source": [
    "%%timeit \n",
    "ans = fixed_model(x_var)"
   ]
  },
  {
   "cell_type": "markdown",
   "metadata": {},
   "source": [
    "... and now the GPU:"
   ]
  },
  {
   "cell_type": "code",
   "execution_count": 12,
   "metadata": {
    "collapsed": false
   },
   "outputs": [
    {
     "name": "stdout",
     "output_type": "stream",
     "text": [
      "100 loops, best of 3: 6.14 ms per loop\n"
     ]
    }
   ],
   "source": [
    "%%timeit \n",
    "torch.cuda.synchronize() # Make sure there are no pending GPU computations\n",
    "ans = fixed_model_gpu(x_var_gpu)        # Feed it through the model! \n",
    "torch.cuda.synchronize() # Make sure there are no pending GPU computations"
   ]
  },
  {
   "cell_type": "markdown",
   "metadata": {},
   "source": [
    "You should observe that even a simple forward pass like this is significantly faster on the GPU. So for the rest of the assignment (and when you go train your models in assignment 3 and your project!), you should use the GPU datatype for your model and your tensors: as a reminder that is *torch.cuda.FloatTensor* (in our notebook here as *gpu_dtype*)"
   ]
  },
  {
   "cell_type": "markdown",
   "metadata": {},
   "source": [
    "### Train the model.\n",
    "\n",
    "Now that you've seen how to define a model and do a single forward pass of some data through it, let's  walk through how you'd actually train one whole epoch over your training data (using the simple_model we provided above).\n",
    "\n",
    "Make sure you understand how each PyTorch function used below corresponds to what you implemented in your custom neural network implementation.\n",
    "\n",
    "Note that because we are not resetting the weights anywhere below, if you run the cell multiple times, you are effectively training multiple epochs (so your performance should improve).\n",
    "\n",
    "First, set up an RMSprop optimizer (using a 1e-3 learning rate) and a cross-entropy loss function:"
   ]
  },
  {
   "cell_type": "code",
   "execution_count": 13,
   "metadata": {
    "collapsed": true
   },
   "outputs": [],
   "source": [
    "loss_fn = nn.CrossEntropyLoss().type(dtype)\n",
    "optimizer = torch.optim.RMSprop(fixed_model_gpu.parameters(), lr=1e-3, alpha=0.99, eps=1e-08, weight_decay=0, momentum=0, centered=False)"
   ]
  },
  {
   "cell_type": "code",
   "execution_count": 14,
   "metadata": {
    "collapsed": false
   },
   "outputs": [
    {
     "name": "stdout",
     "output_type": "stream",
     "text": [
      "t = 100, loss = 1.4024\n",
      "t = 200, loss = 1.5582\n",
      "t = 300, loss = 1.4148\n",
      "t = 400, loss = 1.2537\n",
      "t = 500, loss = 1.2765\n",
      "t = 600, loss = 1.2739\n",
      "t = 700, loss = 1.1781\n"
     ]
    }
   ],
   "source": [
    "# This sets the model in \"training\" mode. This is relevant for some layers that may have different behavior\n",
    "# in training mode vs testing mode, such as Dropout and BatchNorm. \n",
    "fixed_model_gpu.train()\n",
    "\n",
    "# Load one batch at a time.\n",
    "for t, (x, y) in enumerate(loader_train):\n",
    "    x_var = Variable(x.type(gpu_dtype))\n",
    "    y_var = Variable(y.type(gpu_dtype).long())\n",
    "\n",
    "    # This is the forward pass: predict the scores for each class, for each x in the batch.\n",
    "    scores = fixed_model_gpu(x_var)\n",
    "    \n",
    "    # Use the correct y values and the predicted y values to compute the loss.\n",
    "    loss = loss_fn(scores, y_var)\n",
    "    \n",
    "    if (t + 1) % print_every == 0:\n",
    "        print('t = %d, loss = %.4f' % (t + 1, loss.data[0]))\n",
    "\n",
    "    # Zero out all of the gradients for the variables which the optimizer will update.\n",
    "    optimizer.zero_grad()\n",
    "    \n",
    "    # This is the backwards pass: compute the gradient of the loss with respect to each \n",
    "    # parameter of the model.\n",
    "    loss.backward()\n",
    "    \n",
    "    # Actually update the parameters of the model using the gradients computed by the backwards pass.\n",
    "    optimizer.step()"
   ]
  },
  {
   "cell_type": "markdown",
   "metadata": {},
   "source": [
    "Now you've seen how the training process works in PyTorch. To save you writing boilerplate code, we're providing the following helper functions to help you train for multiple epochs and check the accuracy of your model:"
   ]
  },
  {
   "cell_type": "code",
   "execution_count": 22,
   "metadata": {
    "collapsed": true
   },
   "outputs": [],
   "source": [
    "def train(model, loss_fn, optimizer, num_epochs = 1):\n",
    "    for epoch in range(num_epochs):\n",
    "        print('Starting epoch %d / %d' % (epoch + 1, num_epochs))\n",
    "        model.train()\n",
    "        for t, (x, y) in enumerate(loader_train):\n",
    "            x_var = Variable(x.type(gpu_dtype))\n",
    "            y_var = Variable(y.type(gpu_dtype).long())\n",
    "\n",
    "            scores = model(x_var)\n",
    "            \n",
    "            loss = loss_fn(scores, y_var)\n",
    "            if (t + 1) % print_every == 0:\n",
    "                print('t = %d, loss = %.4f' % (t + 1, loss.data[0]))\n",
    "\n",
    "            optimizer.zero_grad()\n",
    "            loss.backward()\n",
    "            optimizer.step()\n",
    "\n",
    "def check_accuracy(model, loader):\n",
    "    if loader.dataset.train:\n",
    "        print('Checking accuracy on validation set')\n",
    "    else:\n",
    "        print('Checking accuracy on test set')   \n",
    "    num_correct = 0\n",
    "    num_samples = 0\n",
    "    model.eval() # Put the model in test mode (the opposite of model.train(), essentially)\n",
    "    for x, y in loader:\n",
    "        x_var = Variable(x.type(gpu_dtype), volatile=True)\n",
    "\n",
    "        scores = model(x_var)\n",
    "        _, preds = scores.data.cpu().max(1)\n",
    "        num_correct += (preds == y).sum()\n",
    "        num_samples += preds.size(0)\n",
    "    acc = float(num_correct) / num_samples\n",
    "    print('Got %d / %d correct (%.2f)' % (num_correct, num_samples, 100 * acc))\n",
    "    \n",
    "\n",
    "def train(model,loss_fn, optimizer, num_epochs = 1):\n",
    "    for epoch in range(num_epochs):\n",
    "        print('Starting epoch %d / %d' % (epoch + 1, num_epochs))\n",
    "        model.train()\n",
    "        for t, (x, y) in enumerate(loader_train):\n",
    "\n",
    "            x_var = Variable(x.type(gpu_dtype),requires_grad=True)\n",
    "            \n",
    "            y_var = Variable(y.type(gpu_dtype).long())\n",
    "\n",
    "            scores = model(x_var).type(gpu_dtype)\n",
    "\n",
    "            loss = loss_fn(scores, y_var)\n",
    "            if (t + 1) % 100 == 0:\n",
    "                val_acc = check_accuracy(model, loader_val)\n",
    "                train_acc = check_accuracy(model, loader_train)\n",
    "                print('t = %d, loss = %.4f, val_acc = %.4f, train_acc = %.4f' % (t + 1, loss.data[0],val_acc,train_acc))\n",
    "\n",
    "            optimizer.zero_grad()\n",
    "            loss.backward()\n",
    "            optimizer.step()\n",
    "            \n",
    "def check_accuracy(model, loader):   \n",
    "    num_correct = 0\n",
    "    num_samples = 0\n",
    "    model.eval() # Put the model in test mode (the opposite of model.train(), essentially)\n",
    "    for x, y in loader:\n",
    "        x_var = Variable(x.type(gpu_dtype), volatile=True)\n",
    "\n",
    "        scores = model(x_var)\n",
    "        _, preds = scores.data.cpu().max(1)\n",
    "        num_correct += (preds == y).sum()\n",
    "        num_samples += preds.size(0)\n",
    "    acc = float(num_correct) / num_samples\n",
    "    #print('Got %d / %d correct (%.2f)' % (num_correct, num_samples, 100 * acc))\n",
    "    return acc\n"
   ]
  },
  {
   "cell_type": "markdown",
   "metadata": {},
   "source": [
    "### Check the accuracy of the model.\n",
    "\n",
    "Let's see the train and check_accuracy code in action -- feel free to use these methods when evaluating the models you develop below.\n",
    "\n",
    "You should get a training loss of around 1.2-1.4, and a validation accuracy of around 50-60%. As mentioned above, if you re-run the cells, you'll be training more epochs, so your performance will improve past these numbers.\n",
    "\n",
    "But don't worry about getting these numbers better -- this was just practice before you tackle designing your own model."
   ]
  },
  {
   "cell_type": "code",
   "execution_count": 16,
   "metadata": {
    "collapsed": false
   },
   "outputs": [
    {
     "name": "stdout",
     "output_type": "stream",
     "text": [
      "Starting epoch 1 / 2\n",
      "t = 10, loss = 2.6388, val_acc = 0.1680, train_acc = 0.1808\n",
      "t = 20, loss = 2.0326, val_acc = 0.2610, train_acc = 0.2480\n",
      "t = 30, loss = 2.0472, val_acc = 0.2030, train_acc = 0.1961\n",
      "t = 40, loss = 2.3571, val_acc = 0.2200, train_acc = 0.2072\n",
      "t = 50, loss = 2.0637, val_acc = 0.3090, train_acc = 0.3023\n",
      "t = 60, loss = 1.8365, val_acc = 0.2810, train_acc = 0.2846\n",
      "t = 70, loss = 2.2332, val_acc = 0.2410, train_acc = 0.2419\n",
      "t = 80, loss = 2.0441, val_acc = 0.3560, train_acc = 0.3406\n",
      "t = 90, loss = 1.7693, val_acc = 0.3520, train_acc = 0.3697\n",
      "t = 100, loss = 1.7167, val_acc = 0.3540, train_acc = 0.3783\n",
      "t = 110, loss = 1.6052, val_acc = 0.3990, train_acc = 0.3796\n",
      "t = 120, loss = 1.8151, val_acc = 0.4030, train_acc = 0.3932\n",
      "t = 130, loss = 1.6547, val_acc = 0.3460, train_acc = 0.3429\n",
      "t = 140, loss = 2.0630, val_acc = 0.3950, train_acc = 0.4048\n",
      "t = 150, loss = 1.5921, val_acc = 0.4200, train_acc = 0.4178\n",
      "t = 160, loss = 2.0105, val_acc = 0.4050, train_acc = 0.4095\n",
      "t = 170, loss = 1.5759, val_acc = 0.4190, train_acc = 0.4094\n",
      "t = 180, loss = 1.6338, val_acc = 0.3820, train_acc = 0.3895\n",
      "t = 190, loss = 1.5873, val_acc = 0.4440, train_acc = 0.4380\n",
      "t = 200, loss = 1.6940, val_acc = 0.4300, train_acc = 0.4158\n",
      "t = 210, loss = 1.8610, val_acc = 0.4530, train_acc = 0.4512\n",
      "t = 220, loss = 1.5287, val_acc = 0.4370, train_acc = 0.4566\n",
      "t = 230, loss = 1.6727, val_acc = 0.4690, train_acc = 0.4687\n",
      "t = 240, loss = 1.5174, val_acc = 0.4380, train_acc = 0.4314\n",
      "t = 250, loss = 1.6802, val_acc = 0.4430, train_acc = 0.4543\n",
      "t = 260, loss = 1.4313, val_acc = 0.4300, train_acc = 0.4449\n",
      "t = 270, loss = 1.6235, val_acc = 0.4430, train_acc = 0.4624\n",
      "t = 280, loss = 1.5315, val_acc = 0.4120, train_acc = 0.4253\n",
      "t = 290, loss = 1.6371, val_acc = 0.4540, train_acc = 0.4734\n",
      "t = 300, loss = 1.5512, val_acc = 0.4780, train_acc = 0.4797\n",
      "t = 310, loss = 1.3817, val_acc = 0.4780, train_acc = 0.4874\n",
      "t = 320, loss = 1.4805, val_acc = 0.4820, train_acc = 0.4712\n",
      "t = 330, loss = 1.4602, val_acc = 0.4510, train_acc = 0.4539\n",
      "t = 340, loss = 1.3848, val_acc = 0.4720, train_acc = 0.4950\n",
      "t = 350, loss = 1.4759, val_acc = 0.4840, train_acc = 0.4897\n",
      "t = 360, loss = 1.4787, val_acc = 0.4920, train_acc = 0.4923\n",
      "t = 370, loss = 1.3345, val_acc = 0.4970, train_acc = 0.5003\n",
      "t = 380, loss = 1.4888, val_acc = 0.4920, train_acc = 0.4884\n",
      "t = 390, loss = 1.3598, val_acc = 0.4740, train_acc = 0.4814\n",
      "t = 400, loss = 1.4030, val_acc = 0.4880, train_acc = 0.5015\n",
      "t = 410, loss = 1.1685, val_acc = 0.4910, train_acc = 0.4978\n",
      "t = 420, loss = 1.3867, val_acc = 0.4680, train_acc = 0.4780\n",
      "t = 430, loss = 1.5832, val_acc = 0.5110, train_acc = 0.5134\n",
      "t = 440, loss = 1.4620, val_acc = 0.5180, train_acc = 0.5215\n",
      "t = 450, loss = 1.4998, val_acc = 0.5310, train_acc = 0.5227\n",
      "t = 460, loss = 1.2873, val_acc = 0.5110, train_acc = 0.5272\n",
      "t = 470, loss = 1.4246, val_acc = 0.4890, train_acc = 0.5108\n",
      "t = 480, loss = 1.7860, val_acc = 0.4260, train_acc = 0.4457\n",
      "t = 490, loss = 1.2004, val_acc = 0.5120, train_acc = 0.5171\n",
      "t = 500, loss = 1.3231, val_acc = 0.5080, train_acc = 0.5149\n",
      "t = 510, loss = 1.4814, val_acc = 0.4770, train_acc = 0.5054\n",
      "t = 520, loss = 1.3060, val_acc = 0.5080, train_acc = 0.5318\n",
      "t = 530, loss = 1.8904, val_acc = 0.4130, train_acc = 0.4549\n",
      "t = 540, loss = 1.4485, val_acc = 0.5230, train_acc = 0.5365\n",
      "t = 550, loss = 1.5383, val_acc = 0.4900, train_acc = 0.4938\n",
      "t = 560, loss = 1.5103, val_acc = 0.4930, train_acc = 0.5317\n",
      "t = 570, loss = 1.2801, val_acc = 0.5180, train_acc = 0.5381\n",
      "t = 580, loss = 1.4138, val_acc = 0.5220, train_acc = 0.5416\n",
      "t = 590, loss = 1.5803, val_acc = 0.4870, train_acc = 0.4907\n",
      "t = 600, loss = 1.4900, val_acc = 0.5010, train_acc = 0.5179\n",
      "t = 610, loss = 1.5327, val_acc = 0.5010, train_acc = 0.5361\n",
      "t = 620, loss = 1.6221, val_acc = 0.5260, train_acc = 0.5540\n",
      "t = 630, loss = 1.3299, val_acc = 0.5340, train_acc = 0.5543\n",
      "t = 640, loss = 1.6566, val_acc = 0.5310, train_acc = 0.5511\n",
      "t = 650, loss = 1.5562, val_acc = 0.5160, train_acc = 0.5521\n",
      "t = 660, loss = 1.3937, val_acc = 0.4940, train_acc = 0.4939\n",
      "t = 670, loss = 1.2996, val_acc = 0.5340, train_acc = 0.5515\n",
      "t = 680, loss = 1.4646, val_acc = 0.5560, train_acc = 0.5672\n",
      "t = 690, loss = 1.3922, val_acc = 0.5750, train_acc = 0.5727\n",
      "t = 700, loss = 1.5905, val_acc = 0.5210, train_acc = 0.5299\n",
      "t = 710, loss = 1.0343, val_acc = 0.5600, train_acc = 0.5788\n",
      "t = 720, loss = 1.3317, val_acc = 0.5300, train_acc = 0.5460\n",
      "t = 730, loss = 1.3817, val_acc = 0.5180, train_acc = 0.5407\n",
      "t = 740, loss = 1.1759, val_acc = 0.5570, train_acc = 0.5777\n",
      "t = 750, loss = 1.2478, val_acc = 0.5290, train_acc = 0.5616\n",
      "t = 760, loss = 1.1495, val_acc = 0.5620, train_acc = 0.5833\n",
      "Starting epoch 2 / 2\n",
      "t = 10, loss = 1.9491, val_acc = 0.5030, train_acc = 0.5279\n",
      "t = 20, loss = 1.3724, val_acc = 0.5030, train_acc = 0.5214\n",
      "t = 30, loss = 1.1961, val_acc = 0.5290, train_acc = 0.5430\n",
      "t = 40, loss = 1.5570, val_acc = 0.5040, train_acc = 0.5369\n",
      "t = 50, loss = 1.5126, val_acc = 0.5470, train_acc = 0.5743\n",
      "t = 60, loss = 1.1458, val_acc = 0.5450, train_acc = 0.5700\n",
      "t = 70, loss = 1.3004, val_acc = 0.5450, train_acc = 0.5785\n",
      "t = 80, loss = 1.4734, val_acc = 0.5640, train_acc = 0.5876\n",
      "t = 90, loss = 1.4157, val_acc = 0.4980, train_acc = 0.5296\n",
      "t = 100, loss = 1.0493, val_acc = 0.5550, train_acc = 0.5722\n",
      "t = 110, loss = 1.2324, val_acc = 0.5350, train_acc = 0.5723\n",
      "t = 120, loss = 1.3723, val_acc = 0.5580, train_acc = 0.5756\n",
      "t = 130, loss = 1.0664, val_acc = 0.5630, train_acc = 0.5925\n",
      "t = 140, loss = 1.5746, val_acc = 0.5600, train_acc = 0.5919\n",
      "t = 150, loss = 1.3270, val_acc = 0.5340, train_acc = 0.5581\n",
      "t = 160, loss = 1.4017, val_acc = 0.5620, train_acc = 0.5906\n",
      "t = 170, loss = 1.2474, val_acc = 0.5670, train_acc = 0.5998\n",
      "t = 180, loss = 1.1516, val_acc = 0.5340, train_acc = 0.5603\n",
      "t = 190, loss = 1.2211, val_acc = 0.5660, train_acc = 0.6056\n",
      "t = 200, loss = 1.2760, val_acc = 0.5540, train_acc = 0.5890\n",
      "t = 210, loss = 1.5770, val_acc = 0.5700, train_acc = 0.6006\n",
      "t = 220, loss = 1.2550, val_acc = 0.5710, train_acc = 0.6088\n",
      "t = 230, loss = 1.4134, val_acc = 0.5790, train_acc = 0.6084\n",
      "t = 240, loss = 1.1502, val_acc = 0.5770, train_acc = 0.6096\n",
      "t = 250, loss = 1.4818, val_acc = 0.5360, train_acc = 0.5726\n",
      "t = 260, loss = 1.1379, val_acc = 0.5420, train_acc = 0.6066\n",
      "t = 270, loss = 1.1054, val_acc = 0.5710, train_acc = 0.6158\n",
      "t = 280, loss = 1.1067, val_acc = 0.5450, train_acc = 0.5796\n",
      "t = 290, loss = 1.5064, val_acc = 0.5380, train_acc = 0.5707\n",
      "t = 300, loss = 1.2843, val_acc = 0.5700, train_acc = 0.6127\n",
      "t = 310, loss = 1.0882, val_acc = 0.5740, train_acc = 0.6218\n",
      "t = 320, loss = 1.0865, val_acc = 0.5770, train_acc = 0.6133\n",
      "t = 330, loss = 1.0152, val_acc = 0.5460, train_acc = 0.5964\n",
      "t = 340, loss = 1.2295, val_acc = 0.5630, train_acc = 0.6067\n",
      "t = 350, loss = 1.2884, val_acc = 0.5720, train_acc = 0.6069\n",
      "t = 360, loss = 1.1914, val_acc = 0.5870, train_acc = 0.6255\n",
      "t = 370, loss = 1.1010, val_acc = 0.5840, train_acc = 0.6289\n",
      "t = 380, loss = 1.2991, val_acc = 0.5830, train_acc = 0.6183\n",
      "t = 390, loss = 1.0830, val_acc = 0.5560, train_acc = 0.6192\n",
      "t = 400, loss = 1.1603, val_acc = 0.5860, train_acc = 0.6403\n",
      "t = 410, loss = 0.7998, val_acc = 0.5910, train_acc = 0.6250\n",
      "t = 420, loss = 1.1486, val_acc = 0.5900, train_acc = 0.6328\n",
      "t = 430, loss = 1.0935, val_acc = 0.5900, train_acc = 0.6358\n",
      "t = 440, loss = 1.1869, val_acc = 0.5770, train_acc = 0.6177\n",
      "t = 450, loss = 1.2733, val_acc = 0.5800, train_acc = 0.6120\n",
      "t = 460, loss = 0.9861, val_acc = 0.5890, train_acc = 0.6374\n",
      "t = 470, loss = 1.1730, val_acc = 0.5960, train_acc = 0.6334\n",
      "t = 480, loss = 1.2877, val_acc = 0.5870, train_acc = 0.6435\n",
      "t = 490, loss = 0.9791, val_acc = 0.5790, train_acc = 0.6079\n",
      "t = 500, loss = 1.0150, val_acc = 0.5920, train_acc = 0.6430\n",
      "t = 510, loss = 0.9774, val_acc = 0.5940, train_acc = 0.6537\n",
      "t = 520, loss = 1.1179, val_acc = 0.5850, train_acc = 0.6359\n",
      "t = 530, loss = 1.4277, val_acc = 0.5510, train_acc = 0.6026\n",
      "t = 540, loss = 1.1018, val_acc = 0.5780, train_acc = 0.6493\n",
      "t = 550, loss = 1.1905, val_acc = 0.5670, train_acc = 0.6189\n",
      "t = 560, loss = 1.2561, val_acc = 0.6040, train_acc = 0.6631\n",
      "t = 570, loss = 1.0099, val_acc = 0.6050, train_acc = 0.6649\n",
      "t = 580, loss = 1.0670, val_acc = 0.6150, train_acc = 0.6685\n",
      "t = 590, loss = 1.2472, val_acc = 0.5670, train_acc = 0.6068\n",
      "t = 600, loss = 1.2762, val_acc = 0.5880, train_acc = 0.6518\n",
      "t = 610, loss = 1.3364, val_acc = 0.5480, train_acc = 0.6008\n",
      "t = 620, loss = 1.3565, val_acc = 0.5860, train_acc = 0.6548\n",
      "t = 630, loss = 0.9588, val_acc = 0.5940, train_acc = 0.6449\n",
      "t = 640, loss = 1.2345, val_acc = 0.5980, train_acc = 0.6610\n",
      "t = 650, loss = 1.3643, val_acc = 0.5850, train_acc = 0.6488\n",
      "t = 660, loss = 0.9862, val_acc = 0.5860, train_acc = 0.6258\n",
      "t = 670, loss = 0.9928, val_acc = 0.6070, train_acc = 0.6499\n",
      "t = 680, loss = 1.2452, val_acc = 0.6250, train_acc = 0.6767\n",
      "t = 690, loss = 1.2699, val_acc = 0.6130, train_acc = 0.6544\n",
      "t = 700, loss = 1.0315, val_acc = 0.6170, train_acc = 0.6716\n",
      "t = 710, loss = 0.7431, val_acc = 0.6160, train_acc = 0.6827\n",
      "t = 720, loss = 1.1350, val_acc = 0.5810, train_acc = 0.6547\n",
      "t = 730, loss = 1.1282, val_acc = 0.5980, train_acc = 0.6465\n",
      "t = 740, loss = 0.8919, val_acc = 0.6000, train_acc = 0.6671\n",
      "t = 750, loss = 1.0259, val_acc = 0.5900, train_acc = 0.6716\n",
      "t = 760, loss = 0.8868, val_acc = 0.6180, train_acc = 0.6795\n"
     ]
    },
    {
     "data": {
      "text/plain": [
       "0.61"
      ]
     },
     "execution_count": 16,
     "metadata": {},
     "output_type": "execute_result"
    }
   ],
   "source": [
    "torch.cuda.random.manual_seed(12345)\n",
    "fixed_model_gpu.apply(reset)\n",
    "train(fixed_model_gpu, loss_fn, optimizer, num_epochs=2)\n",
    "check_accuracy(fixed_model_gpu, loader_val)"
   ]
  },
  {
   "cell_type": "code",
   "execution_count": 17,
   "metadata": {
    "collapsed": false
   },
   "outputs": [
    {
     "data": {
      "text/plain": [
       "0.5883"
      ]
     },
     "execution_count": 17,
     "metadata": {},
     "output_type": "execute_result"
    }
   ],
   "source": [
    "check_accuracy(fixed_model_gpu, loader_test)"
   ]
  },
  {
   "cell_type": "markdown",
   "metadata": {},
   "source": [
    "### Don't forget the validation set!\n",
    "\n",
    "And note that you can use the check_accuracy function to evaluate on either the test set or the validation set, by passing either **loader_test** or **loader_val** as the second argument to check_accuracy. You should not touch the test set until you have finished your architecture and hyperparameter tuning, and only run the test set once at the end to report a final value. "
   ]
  },
  {
   "cell_type": "markdown",
   "metadata": {},
   "source": [
    "## Train a _great_ model on CIFAR-10!\n",
    "\n",
    "Now it's your job to experiment with architectures, hyperparameters, loss functions, and optimizers to train a model that achieves **>=70%** accuracy on the CIFAR-10 **validation** set. You can use the check_accuracy and train functions from above."
   ]
  },
  {
   "cell_type": "markdown",
   "metadata": {},
   "source": [
    "### Things you should try:\n",
    "- **Filter size**: Above we used 7x7; this makes pretty pictures but smaller filters may be more efficient\n",
    "- **Number of filters**: Above we used 32 filters. Do more or fewer do better?\n",
    "- **Pooling vs Strided Convolution**: Do you use max pooling or just stride convolutions?\n",
    "- **Batch normalization**: Try adding spatial batch normalization after convolution layers and vanilla batch normalization after affine layers. Do your networks train faster?\n",
    "- **Network architecture**: The network above has two layers of trainable parameters. Can you do better with a deep network? Good architectures to try include:\n",
    "    - [conv-relu-pool]xN -> [affine]xM -> [softmax or SVM]\n",
    "    - [conv-relu-conv-relu-pool]xN -> [affine]xM -> [softmax or SVM]\n",
    "    - [batchnorm-relu-conv]xN -> [affine]xM -> [softmax or SVM]\n",
    "- **Global Average Pooling**: Instead of flattening and then having multiple affine layers, perform convolutions until your image gets small (7x7 or so) and then perform an average pooling operation to get to a 1x1 image picture (1, 1 , Filter#), which is then reshaped into a (Filter#) vector. This is used in [Google's Inception Network](https://arxiv.org/abs/1512.00567) (See Table 1 for their architecture).\n",
    "- **Regularization**: Add l2 weight regularization, or perhaps use Dropout.\n",
    "\n",
    "### Tips for training\n",
    "For each network architecture that you try, you should tune the learning rate and regularization strength. When doing this there are a couple important things to keep in mind:\n",
    "\n",
    "- If the parameters are working well, you should see improvement within a few hundred iterations\n",
    "- Remember the coarse-to-fine approach for hyperparameter tuning: start by testing a large range of hyperparameters for just a few training iterations to find the combinations of parameters that are working at all.\n",
    "- Once you have found some sets of parameters that seem to work, search more finely around these parameters. You may need to train for more epochs.\n",
    "- You should use the validation set for hyperparameter search, and save your test set for evaluating your architecture on the best parameters as selected by the validation set.\n",
    "\n",
    "### Going above and beyond\n",
    "If you are feeling adventurous there are many other features you can implement to try and improve your performance. You are **not required** to implement any of these; however they would be good things to try for extra credit.\n",
    "\n",
    "- Alternative update steps: For the assignment we implemented SGD+momentum, RMSprop, and Adam; you could try alternatives like AdaGrad or AdaDelta.\n",
    "- Alternative activation functions such as leaky ReLU, parametric ReLU, ELU, or MaxOut.\n",
    "- Model ensembles\n",
    "- Data augmentation\n",
    "- New Architectures\n",
    "  - [ResNets](https://arxiv.org/abs/1512.03385) where the input from the previous layer is added to the output.\n",
    "  - [DenseNets](https://arxiv.org/abs/1608.06993) where inputs into previous layers are concatenated together.\n",
    "  - [This blog has an in-depth overview](https://chatbotslife.com/resnets-highwaynets-and-densenets-oh-my-9bb15918ee32)\n",
    "\n",
    "If you do decide to implement something extra, clearly describe it in the \"Extra Credit Description\" cell below.\n",
    "\n",
    "### What we expect\n",
    "At the very least, you should be able to train a ConvNet that gets at least 70% accuracy on the validation set. This is just a lower bound - if you are careful it should be possible to get accuracies much higher than that! Extra credit points will be awarded for particularly high-scoring models or unique approaches.\n",
    "\n",
    "You should use the space below to experiment and train your network. \n",
    "\n",
    "Have fun and happy training!"
   ]
  },
  {
   "cell_type": "markdown",
   "metadata": {},
   "source": [
    "(1) Reducing filter size improves performance, more parameters\n",
    "\n",
    "(2) Increasing number of filters is best, but not as much as (1) if considered in isolation\n",
    "\n",
    "(3) Strided convolutions performed better than maxpooling if considered in isolation. But [2]indicates that in terms of performance both are equivalent.\n",
    "\n",
    "(4) The network trains faster with batch normalzation layers. They infact increase trainning speed.\n",
    "\n",
    "Takeaways: Using more small filters is good for performance. Strided convlutions improve trainning in comparsion to max pooling layers (at the cost of comput. power). Finally, normalization accelerates trainning speed\n",
    "\n",
    "Sources found during research:\n",
    "\n",
    "[1] \"Batch Normalization: Accelerating Deep Networks Trainning by Reducing Internal Covariate Shift\" https://arxiv.org/pdf/1502.03167v3.pdf\n",
    "\n",
    "[2] \"STRIVING FOR SIMPLICITY: THE ALL CONVOLUTIONAL NET\" https://arxiv.org/pdf/1412.6806.pdf\n",
    "\n"
   ]
  },
  {
   "cell_type": "code",
   "execution_count": 23,
   "metadata": {
    "collapsed": false
   },
   "outputs": [
    {
     "name": "stdout",
     "output_type": "stream",
     "text": [
      "Starting epoch 1 / 5\n",
      "t = 100, loss = 1.6634, val_acc = 0.4010, train_acc = 0.3924\n",
      "t = 200, loss = 1.3768, val_acc = 0.5110, train_acc = 0.4798\n",
      "t = 300, loss = 1.6467, val_acc = 0.5190, train_acc = 0.5137\n",
      "t = 400, loss = 0.9877, val_acc = 0.5540, train_acc = 0.5546\n",
      "t = 500, loss = 1.1848, val_acc = 0.5580, train_acc = 0.5684\n",
      "t = 600, loss = 1.0643, val_acc = 0.6130, train_acc = 0.6119\n",
      "t = 700, loss = 1.2174, val_acc = 0.6200, train_acc = 0.6327\n",
      "Starting epoch 2 / 5\n",
      "t = 100, loss = 0.8896, val_acc = 0.6630, train_acc = 0.6746\n",
      "t = 200, loss = 1.0429, val_acc = 0.6640, train_acc = 0.6696\n",
      "t = 300, loss = 0.9999, val_acc = 0.6870, train_acc = 0.6996\n",
      "t = 400, loss = 0.7360, val_acc = 0.7000, train_acc = 0.7168\n",
      "t = 500, loss = 0.7441, val_acc = 0.7190, train_acc = 0.7350\n",
      "t = 600, loss = 0.9085, val_acc = 0.7160, train_acc = 0.7350\n",
      "t = 700, loss = 0.7985, val_acc = 0.7180, train_acc = 0.7387\n",
      "Starting epoch 3 / 5\n",
      "t = 100, loss = 0.5573, val_acc = 0.7290, train_acc = 0.7624\n",
      "t = 200, loss = 0.9119, val_acc = 0.7190, train_acc = 0.7518\n",
      "t = 300, loss = 0.6453, val_acc = 0.7360, train_acc = 0.7759\n",
      "t = 400, loss = 0.5585, val_acc = 0.7610, train_acc = 0.7876\n",
      "t = 500, loss = 0.6017, val_acc = 0.7530, train_acc = 0.8017\n",
      "t = 600, loss = 0.5523, val_acc = 0.7630, train_acc = 0.7984\n",
      "t = 700, loss = 0.6412, val_acc = 0.7440, train_acc = 0.7908\n",
      "Starting epoch 4 / 5\n",
      "t = 100, loss = 0.4292, val_acc = 0.7610, train_acc = 0.8167\n",
      "t = 200, loss = 0.7478, val_acc = 0.7650, train_acc = 0.8142\n",
      "t = 300, loss = 0.4816, val_acc = 0.7510, train_acc = 0.8173\n",
      "t = 400, loss = 0.4408, val_acc = 0.7810, train_acc = 0.8316\n",
      "t = 500, loss = 0.6102, val_acc = 0.7670, train_acc = 0.8307\n",
      "t = 600, loss = 0.4103, val_acc = 0.7950, train_acc = 0.8381\n",
      "t = 700, loss = 0.5667, val_acc = 0.7640, train_acc = 0.8176\n",
      "Starting epoch 5 / 5\n",
      "t = 100, loss = 0.3074, val_acc = 0.7680, train_acc = 0.8444\n",
      "t = 200, loss = 0.8091, val_acc = 0.7620, train_acc = 0.8303\n",
      "t = 300, loss = 0.3328, val_acc = 0.7710, train_acc = 0.8607\n",
      "t = 400, loss = 0.4176, val_acc = 0.7880, train_acc = 0.8681\n",
      "t = 500, loss = 0.3563, val_acc = 0.7670, train_acc = 0.8547\n",
      "t = 600, loss = 0.4760, val_acc = 0.7780, train_acc = 0.8532\n",
      "t = 700, loss = 0.4387, val_acc = 0.7630, train_acc = 0.8453\n",
      "CPU times: user 27min 7s, sys: 8min 17s, total: 35min 24s\n",
      "Wall time: 35min 24s\n"
     ]
    }
   ],
   "source": [
    "%%time\n",
    "# Train your model here, and make sure the output of this cell is the accuracy of your best model on the \n",
    "# train, val, and test sets. Here's some code to get you started. The output of this cell should be the training\n",
    "# and validation accuracy on your best model (measured by validation accuracy).\n",
    "from torch.nn import init\n",
    "\n",
    "model_base = nn.Sequential(\n",
    "    nn.BatchNorm2d(3,eps=1e-5),\n",
    "    nn.Conv2d(3,32,kernel_size=3,stride=1),#30\n",
    "    nn.ReLU(inplace=True),\n",
    "    nn.Conv2d(32,32,kernel_size=3,padding=1,stride=1),#30\n",
    "    nn.ReLU(inplace=True),\n",
    "    nn.MaxPool2d(kernel_size=2,stride=2),#15\n",
    "    nn.BatchNorm2d(32,eps=1e-5),\n",
    "    nn.Conv2d(32,64,kernel_size=3,padding=1,stride=1),#15\n",
    "    nn.ReLU(inplace=True),\n",
    "    nn.BatchNorm2d(64,eps=1e-5),\n",
    "    nn.Conv2d(64,128,kernel_size=4,stride=1),#12\n",
    "    nn.ReLU(inplace=True),    \n",
    "    nn.MaxPool2d(kernel_size=2,stride=2),#6\n",
    "    nn.BatchNorm2d(128,eps=1e-5),\n",
    "    nn.Conv2d(128,256,kernel_size=3,stride=1),#4\n",
    "    nn.ReLU(inplace=True),\n",
    "    nn.BatchNorm2d(256,eps=1e-5),\n",
    "    nn.Conv2d(256,512,kernel_size=2,stride=1),#3\n",
    "    nn.ReLU(inplace=True),\n",
    "    nn.BatchNorm2d(512,eps=1e-5),\n",
    "    nn.MaxPool2d(kernel_size=2,padding=0,stride=1),\n",
    "    Flatten(),\n",
    "    nn.Linear(4*512,2000),\n",
    "    nn.ReLU(inplace=True),\n",
    "    nn.Linear(2000,1000),\n",
    "    nn.ReLU(inplace=True),\n",
    "    nn.Linear(1000,500),\n",
    "    nn.ReLU(inplace=True),\n",
    "    nn.Linear(500,10)\n",
    "            )\n",
    "\n",
    "def init_weights(m):\n",
    "    if (type(m) == (nn.Linear))|(type(m)==nn.Conv2d):\n",
    "        return init.xavier_uniform(m.weight)\n",
    "    else:\n",
    "        pass\n",
    "\n",
    "model = model_base.type(gpu_dtype)\n",
    "\n",
    "torch.cuda.random.manual_seed(12345)\n",
    "model.apply(reset)\n",
    "model.apply(init_weights)\n",
    "\n",
    "loss_fn = nn.CrossEntropyLoss().type(gpu_dtype)\n",
    "\n",
    "optimizer = optim.Adam(model.parameters(), lr=1e-3) #torch.optim.RMSprop(model.parameters(), lr=1e-3, alpha=0.99, eps=1e-08, weight_decay=0, momentum=0, centered=False)\n",
    "\n",
    "train(model, loss_fn, optimizer, num_epochs=5)\n",
    "check_accuracy(model, loader_val)"
   ]
  },
  {
   "cell_type": "code",
   "execution_count": 24,
   "metadata": {
    "collapsed": false
   },
   "outputs": [
    {
     "name": "stdout",
     "output_type": "stream",
     "text": [
      "Starting epoch 1 / 2\n",
      "t = 100, loss = 0.1150, val_acc = 0.7910, train_acc = 0.8852\n",
      "t = 200, loss = 0.4899, val_acc = 0.7940, train_acc = 0.8688\n",
      "t = 300, loss = 0.3762, val_acc = 0.7670, train_acc = 0.8794\n",
      "t = 400, loss = 0.2792, val_acc = 0.7630, train_acc = 0.8801\n",
      "t = 500, loss = 0.2229, val_acc = 0.7790, train_acc = 0.8760\n",
      "t = 600, loss = 0.3208, val_acc = 0.7850, train_acc = 0.8877\n",
      "t = 700, loss = 0.4600, val_acc = 0.8050, train_acc = 0.8998\n",
      "Starting epoch 2 / 2\n",
      "t = 100, loss = 0.1137, val_acc = 0.8000, train_acc = 0.9088\n",
      "t = 200, loss = 0.4056, val_acc = 0.8010, train_acc = 0.8995\n",
      "t = 300, loss = 0.2481, val_acc = 0.7660, train_acc = 0.8901\n",
      "t = 400, loss = 0.1760, val_acc = 0.7610, train_acc = 0.8812\n",
      "t = 500, loss = 0.2938, val_acc = 0.7810, train_acc = 0.9011\n",
      "t = 600, loss = 0.3971, val_acc = 0.7870, train_acc = 0.9129\n",
      "t = 700, loss = 0.2441, val_acc = 0.7920, train_acc = 0.9136\n"
     ]
    },
    {
     "data": {
      "text/plain": [
       "0.807"
      ]
     },
     "execution_count": 24,
     "metadata": {},
     "output_type": "execute_result"
    }
   ],
   "source": [
    "optimizer.lr = 1e-4\n",
    "train(model, loss_fn, optimizer, num_epochs=2)\n",
    "check_accuracy(model, loader_val)"
   ]
  },
  {
   "cell_type": "markdown",
   "metadata": {},
   "source": [
    "## VGG19..."
   ]
  },
  {
   "cell_type": "code",
   "execution_count": 25,
   "metadata": {
    "collapsed": true
   },
   "outputs": [],
   "source": [
    "def train(model, loss_fn, optimizer, num_epochs = 1):\n",
    "    for epoch in range(num_epochs):\n",
    "        print('Starting epoch %d / %d' % (epoch + 1, num_epochs))\n",
    "        model.train()\n",
    "        for t, (x, y) in enumerate(loader_train):\n",
    "            x_var = Variable(x.type(gpu_dtype))\n",
    "            y_var = Variable(y.type(gpu_dtype).long())\n",
    "\n",
    "            scores = model(x_var)\n",
    "            \n",
    "            loss = loss_fn(scores, y_var)\n",
    "            if (t + 1) % print_every == 0:\n",
    "                print('t = %d, loss = %.4f' % (t + 1, loss.data[0]))\n",
    "\n",
    "            optimizer.zero_grad()\n",
    "            loss.backward()\n",
    "            optimizer.step()\n",
    "\n",
    "def check_accuracy(model, loader):\n",
    "    if loader.dataset.train:\n",
    "        print('Checking accuracy on validation set')\n",
    "    else:\n",
    "        print('Checking accuracy on test set')   \n",
    "    num_correct = 0\n",
    "    num_samples = 0\n",
    "    model.eval() # Put the model in test mode (the opposite of model.train(), essentially)\n",
    "    for x, y in loader:\n",
    "        x_var = Variable(x.type(gpu_dtype), volatile=True)\n",
    "\n",
    "        scores = model(x_var)\n",
    "        _, preds = scores.data.cpu().max(1)\n",
    "        num_correct += (preds == y).sum()\n",
    "        num_samples += preds.size(0)\n",
    "    acc = float(num_correct) / num_samples\n",
    "    print('Got %d / %d correct (%.2f)' % (num_correct, num_samples, 100 * acc))\n",
    "\n",
    "    \n",
    "def train(model,loss_fn, optimizer, num_epochs = 1):\n",
    "    for epoch in range(num_epochs):\n",
    "        print('Starting epoch %d / %d' % (epoch + 1, num_epochs))\n",
    "        model.train()\n",
    "        for t, (x, y) in enumerate(loader_train):\n",
    "\n",
    "            x_var = Variable(x.type(gpu_dtype),requires_grad=True)\n",
    "            \n",
    "            y_var = Variable(y.type(gpu_dtype).long())\n",
    "\n",
    "            scores = model(x_var).type(gpu_dtype)\n",
    "\n",
    "            loss = loss_fn(scores, y_var)\n",
    "            if (t + 1) % 200 == 0:\n",
    "                val_acc = check_accuracy(model, loader_val)\n",
    "                train_acc = check_accuracy(model, loader_train)\n",
    "                print('t = %d, loss = %.4f, val_acc = %.4f, train_acc = %.4f' % (t + 1, loss.data[0],val_acc,train_acc))\n",
    "\n",
    "            optimizer.zero_grad()\n",
    "            loss.backward()\n",
    "            optimizer.step()\n",
    "\n",
    "def check_accuracy(model, loader):\n",
    "    #if loader.dataset.train:\n",
    "    #    print('Checking accuracy on validation set')\n",
    "    #else:\n",
    "    #    print('Checking accuracy on test set')\n",
    "    num_correct = 0\n",
    "    num_samples = 0\n",
    "    model.eval() # Put the model in test mode (the opposite of model.train(), essentially)\n",
    "    for x, y in loader:\n",
    "        x_var = Variable(x.type(gpu_dtype),requires_grad=False)\n",
    "        \n",
    "        scores = model(x_var)\n",
    "        _, preds = scores.data.cpu().max(1)\n",
    "        num_correct += (preds == y).sum()\n",
    "        num_samples += preds.size(0)\n",
    "    acc = float(num_correct) / num_samples\n",
    "    #print('Got %d / %d correct (%.2f)' % (num_correct, num_samples, 100 * acc))\n",
    "    return acc"
   ]
  },
  {
   "cell_type": "code",
   "execution_count": 26,
   "metadata": {
    "collapsed": false
   },
   "outputs": [],
   "source": [
    "class TwoConvPool(nn.Module):\n",
    "    def __init__(self,DD1):\n",
    "        super().__init__()\n",
    "        D0,D1,D2 = DD1\n",
    "        self.bn1 = nn.BatchNorm2d(D0,eps=1e-5)\n",
    "        self.Conv1 = nn.Conv2d(D0,D1,kernel_size=3,padding=1,stride=1)\n",
    "        self.Conv2 = nn.Conv2d(D1,D2,kernel_size=3,padding=1,stride=1)\n",
    "        self.Pool1 = nn.MaxPool2d(kernel_size=3,padding=1,stride=2)\n",
    "    def forward(self,x):\n",
    "        x = self.bn1(x)\n",
    "        x = F.relu(self.Conv1(x))\n",
    "        x = F.relu(self.Conv2(x))\n",
    "        \n",
    "        x=F.relu(self.Pool1(x))\n",
    "        \n",
    "        return x"
   ]
  },
  {
   "cell_type": "code",
   "execution_count": 27,
   "metadata": {
    "collapsed": true
   },
   "outputs": [],
   "source": [
    "class ThreeConvPool(nn.Module):\n",
    "    def __init__(self,DD2):\n",
    "        super().__init__()\n",
    "        D0,D1,D2,D3 = DD2\n",
    "        self.bn1 = nn.BatchNorm2d(D0,eps=1e-5)\n",
    "        self.Conv1 = nn.Conv2d(D0,D1,kernel_size=3,padding=1,stride=1)\n",
    "        self.Conv2 = nn.Conv2d(D1,D2,kernel_size=3,padding=1,stride=1)\n",
    "        self.Conv3 = nn.Conv2d(D2,D3,kernel_size=3,padding=1,stride=1)\n",
    "        self.Pool1 = nn.MaxPool2d(kernel_size=2,stride=1)\n",
    "        self.bn2 = nn.BatchNorm2d(D3,eps=1e-5)\n",
    "        \n",
    "    def forward(self,x):     \n",
    "        x = F.relu(self.Conv1(x))\n",
    "        x = F.relu(self.Conv3(F.relu(self.Conv2(x))))\n",
    "        \n",
    "        x = F.relu(self.Pool1(x))\n",
    "        \n",
    "        return x"
   ]
  },
  {
   "cell_type": "code",
   "execution_count": 28,
   "metadata": {
    "collapsed": true
   },
   "outputs": [],
   "source": [
    "class FC(nn.Module):\n",
    "    def __init__(self,H):\n",
    "        super().__init__()\n",
    "        h1,h2,h3,c = H\n",
    "        self.FC1 = nn.Linear(h1,h2)\n",
    "        self.FC2 = nn.Linear(h2,h3)\n",
    "        self.FC3 = nn.Linear(h3,c)\n",
    "        self.drop = nn.Dropout(0.5)\n",
    "    def forward(self,x):\n",
    "        x = self.drop(self.FC1(x))\n",
    "        x = self.drop(self.FC2(x))\n",
    "        return self.FC3(x)"
   ]
  },
  {
   "cell_type": "code",
   "execution_count": 29,
   "metadata": {
    "collapsed": true
   },
   "outputs": [],
   "source": [
    "class MyVGG(nn.Module):\n",
    "    def __init__(self,DD1,DD2,DD3,DD4,DD5,FCh):\n",
    "        super().__init__()\n",
    "        self.TwoConvPool1 = TwoConvPool(DD1)\n",
    "        self.TwoConvPool2 = TwoConvPool(DD2)\n",
    "        self.TwoConvPool3 = TwoConvPool(DD3)\n",
    "        self.ThreeConvPool1 = ThreeConvPool(DD4)\n",
    "        self.ThreeConvPool2 = ThreeConvPool(DD5)\n",
    "        self.avgPool = nn.AvgPool2d(2)\n",
    "        self.FC = FC(FCh)\n",
    "    def forward(self,x):\n",
    "        #N,n,c,H,W = x.size()\n",
    "        \n",
    "        #x = x.view(-1,c,H,W)\n",
    "        x = self.TwoConvPool2(self.TwoConvPool1(x))\n",
    "        x = self.TwoConvPool3(x)\n",
    "        \n",
    "        x = self.ThreeConvPool1(x)\n",
    "        x = self.ThreeConvPool2(x)\n",
    "        x = self.avgPool(x)\n",
    "        \n",
    "        x = x.view(x.size()[0],-1)\n",
    "        return self.FC(x)\n"
   ]
  },
  {
   "cell_type": "code",
   "execution_count": 30,
   "metadata": {
    "collapsed": false
   },
   "outputs": [],
   "source": [
    "DD1 = (3,64,64)\n",
    "DD2 = (64,128,128)\n",
    "DD3 = (128,256,256)\n",
    "DD4 = (256,512,512,512)\n",
    "DD5 = (512,512,512,512)\n",
    "FCh = (512,512,250,10)\n",
    "\n",
    "model = MyVGG(DD1,DD2,DD3,DD4,DD5,FCh)"
   ]
  },
  {
   "cell_type": "code",
   "execution_count": 31,
   "metadata": {
    "collapsed": false
   },
   "outputs": [
    {
     "name": "stdout",
     "output_type": "stream",
     "text": [
      "Files already downloaded and verified\n",
      "Files already downloaded and verified\n",
      "Files already downloaded and verified\n"
     ]
    }
   ],
   "source": [
    "TT = T.Compose([T.ToTensor()])\n",
    "bsize = 64\n",
    "#TT = T.Compose([T.TenCrop(28, vertical_flip=False),T.Lambda(lambda crops: torch.stack([T.ToTensor()(crop) for crop in crops]))]) \n",
    "\n",
    "cifar10_train = dset.CIFAR10('./cs231n/datasets', train=True, download=True,\n",
    "                           transform=TT)\n",
    "loader_train = DataLoader(cifar10_train, batch_size=bsize, sampler=ChunkSampler(NUM_TRAIN, 0))\n",
    "\n",
    "cifar10_val = dset.CIFAR10('./cs231n/datasets', train=True, download=True,\n",
    "                           transform=TT)\n",
    "loader_val = DataLoader(cifar10_val, batch_size=bsize, sampler=ChunkSampler(NUM_VAL, NUM_TRAIN))\n",
    "\n",
    "cifar10_test = dset.CIFAR10('./cs231n/datasets', train=False, download=True,\n",
    "                          transform=TT)\n",
    "loader_test = DataLoader(cifar10_test, batch_size=bsize)"
   ]
  },
  {
   "cell_type": "code",
   "execution_count": null,
   "metadata": {
    "collapsed": false
   },
   "outputs": [],
   "source": [
    "import torch.nn.functional as F\n",
    "from torch.nn import init\n",
    "def init_weights(m):\n",
    "    if (type(m) == (nn.Linear))|(type(m)==nn.Conv2d):\n",
    "        return init.xavier_uniform(m.weight)\n",
    "    else:\n",
    "        pass\n",
    "    \n",
    "model = model.type(gpu_dtype)\n",
    "\n",
    "torch.cuda.random.manual_seed(12345)\n",
    "model.apply(reset)\n",
    "model.apply(init_weights)\n",
    "\n",
    "loss_fn = nn.CrossEntropyLoss().type(gpu_dtype)\n",
    "\n",
    "optimizer = optim.Adam(model.parameters(), lr=1e-3) #torch.optim.RMSprop(model.parameters(), lr=1e-3, alpha=0.99, eps=1e-08, weight_decay=0, momentum=0, centered=False)\n",
    "\n",
    "train(model, loss_fn, optimizer, num_epochs=5)\n",
    "check_accuracy(model, loader_val)"
   ]
  },
  {
   "cell_type": "code",
   "execution_count": null,
   "metadata": {
    "collapsed": false
   },
   "outputs": [],
   "source": [
    "optimizer.lr = 1e-4\n",
    "train(model, loss_fn, optimizer, num_epochs=5)\n",
    "check_accuracy(model, loader_val)"
   ]
  },
  {
   "cell_type": "markdown",
   "metadata": {},
   "source": [
    "### Describe what you did \n",
    "\n",
    "In the cell below you should write an explanation of what you did, any additional features that you implemented, and any visualizations or graphs that you make in the process of training and evaluating your network."
   ]
  },
  {
   "cell_type": "markdown",
   "metadata": {},
   "source": [
    "Tell us here!"
   ]
  },
  {
   "cell_type": "markdown",
   "metadata": {},
   "source": [
    "## Test set -- run this only once\n",
    "\n",
    "Now that we've gotten a result we're happy with, we test our final model on the test set (which you should store in best_model).  This would be the score we would achieve on a competition. Think about how this compares to your validation set accuracy."
   ]
  },
  {
   "cell_type": "code",
   "execution_count": null,
   "metadata": {
    "collapsed": false
   },
   "outputs": [],
   "source": [
    "best_model = model\n",
    "check_accuracy(best_model, loader_test)"
   ]
  },
  {
   "cell_type": "markdown",
   "metadata": {},
   "source": [
    "## Going further with PyTorch\n",
    "\n",
    "The next assignment will make heavy use of PyTorch. You might also find it useful for your projects. \n",
    "\n",
    "Here's a nice tutorial by Justin Johnson that shows off some of PyTorch's features, like dynamic graphs and custom NN modules: http://pytorch.org/tutorials/beginner/pytorch_with_examples.html\n",
    "\n",
    "If you're interested in reinforcement learning for your final project, this is a good (more advanced) DQN tutorial in PyTorch: http://pytorch.org/tutorials/intermediate/reinforcement_q_learning.html"
   ]
  },
  {
   "cell_type": "code",
   "execution_count": null,
   "metadata": {
    "collapsed": true
   },
   "outputs": [],
   "source": []
  }
 ],
 "metadata": {
  "kernelspec": {
   "display_name": "Python 3",
   "language": "python",
   "name": "python3"
  },
  "language_info": {
   "codemirror_mode": {
    "name": "ipython",
    "version": 3
   },
   "file_extension": ".py",
   "mimetype": "text/x-python",
   "name": "python",
   "nbconvert_exporter": "python",
   "pygments_lexer": "ipython3",
   "version": "3.6.4"
  }
 },
 "nbformat": 4,
 "nbformat_minor": 0
}
